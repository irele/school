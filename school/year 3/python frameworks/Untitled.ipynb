{
 "cells": [
  {
   "cell_type": "code",
   "execution_count": null,
   "id": "093c7802",
   "metadata": {},
   "outputs": [],
   "source": [
    "# <span style=\"color:Red; font-weight:bold\">Part 1</span>"
   ]
  },
  {
   "cell_type": "markdown",
   "id": "03d825b3",
   "metadata": {},
   "source": [
    "# <span style=\"color:blue; font-weight:bold\">Greece</span>"
   ]
  },
  {
   "cell_type": "markdown",
   "id": "b72b7aaf",
   "metadata": {},
   "source": [
    "# Country Information:\n",
    "- ### Country\n",
    "    - Grecce\n",
    "- ### Capital\n",
    "    - Athens\n",
    "- ### Official language\n",
    "    - Greek\n",
    "- ### Religion\n",
    "    - Orthodox Christian faith\n",
    "- ### Area\n",
    "    - 131,957 km²\n",
    "- ### Population\n",
    "    - 10.72 million \n",
    "- ### Driving side \n",
    "    - right hand\n",
    "- ### Government\n",
    "    - Greece is a parliamentary republic\n"
   ]
  },
  {
   "cell_type": "markdown",
   "id": "9c8d0c37",
   "metadata": {},
   "source": [
    "# Largest Cities in Grecce\n",
    "\n",
    "| Rank | City | Population | \n",
    "| :- | -: | -: |\n",
    "|1 | Athens | 664,046 |\n",
    "|2 | Thessaloniki  | 315,196 |\n",
    "|3 | Patras   | 315,196 |\n",
    "|4 | Piraeus    | 163,688 |\n",
    "|5 | Larissa   | 144,651 |\n",
    "|6 | Heraklion  | 140,730 |\n",
    "\n"
   ]
  },
  {
   "cell_type": "markdown",
   "id": "edd58288",
   "metadata": {},
   "source": [
    "## MAP"
   ]
  },
  {
   "cell_type": "markdown",
   "id": "31179fde",
   "metadata": {},
   "source": [
    "## <img src=\"https://www.tripsavvy.com/thmb/sWVZ190Kj9sjK1lm5gqjokje8wY=/695x0/filters:no_upscale():max_bytes(150000):strip_icc():format(webp)/GettyImages-150355158-58fb8f803df78ca15947f4f7.jpg\">"
   ]
  },
  {
   "cell_type": "code",
   "execution_count": 53,
   "id": "173f62e4",
   "metadata": {},
   "outputs": [
    {
     "data": {
      "text/html": [
       "<?xml version=\"1.0\" encoding=\"UTF-8\"?>\n",
       "<svg xmlns=\"http://www.w3.org/2000/svg\" width=\"600\" height=\"400\" viewBox=\"0 0 27 18\">\n",
       "<rect fill=\"#0D5EAF\" width=\"27\" height=\"18\"/>\n",
       "<path fill=\"none\" stroke-width=\"2\" stroke=\"#FFF\" d=\"M5,0V11 M0,5H10 M10,3H27 M10,7H27 M0,11H27 M0,15H27\"/>\n",
       "</svg>\n"
      ],
      "text/plain": [
       "<IPython.core.display.HTML object>"
      ]
     },
     "metadata": {},
     "output_type": "display_data"
    }
   ],
   "source": [
    "%%HTML\n",
    "<?xml version=\"1.0\" encoding=\"UTF-8\"?>\n",
    "<svg xmlns=\"http://www.w3.org/2000/svg\" width=\"600\" height=\"400\" viewBox=\"0 0 27 18\">\n",
    "<rect fill=\"#0D5EAF\" width=\"27\" height=\"18\"/>\n",
    "<path fill=\"none\" stroke-width=\"2\" stroke=\"#FFF\" d=\"M5,0V11 M0,5H10 M10,3H27 M10,7H27 M0,11H27 M0,15H27\"/>\n",
    "</svg>"
   ]
  },
  {
   "cell_type": "markdown",
   "id": "1ca78b78",
   "metadata": {},
   "source": [
    "# <span style=\"color:Red; font-weight:bold\">Part 2</span> "
   ]
  },
  {
   "cell_type": "code",
   "execution_count": 59,
   "id": "d099bd3d",
   "metadata": {},
   "outputs": [
    {
     "name": "stdout",
     "output_type": "stream",
     "text": [
      "Enter Even Number greater than 2: 10 \n",
      " number  10 can be expressed as  3 + 7 = 10\n",
      " number  10 can be expressed as  5 + 5 = 10\n"
     ]
    }
   ],
   "source": [
    "def isPrime(n):\n",
    "    for i in range(2,n):\n",
    "        if n%i == 0:\n",
    "            return 0\n",
    "    return 1\n",
    "\n",
    "def goldbach(no):\n",
    "  if no%2 !=0 :\n",
    "    return \"Error {} is not an even number \".format(no) \n",
    "  elif no <= 2:\n",
    "    return \"Error {} is not greater than 2, Goldbach Conjecture is observed only in even numbers greater than 2\".format(no)\n",
    "\n",
    "  else:\n",
    "      for i in range(3,no):\n",
    "          if isPrime(i) == 1:\n",
    "              for l in range(i,no):\n",
    "                  if isPrime(l) == 1:\n",
    "                      if no == (i+l):\n",
    "                          print(\" number \", no , \"can be expressed as \",i,\"+\",l,\"=\",no)\n",
    "\n",
    "no = int(input(\"Enter Even Number greater than 2: \"))\n",
    "goldbach(no) "
   ]
  },
  {
   "cell_type": "code",
   "execution_count": null,
   "id": "99f0eaf0",
   "metadata": {},
   "outputs": [],
   "source": []
  },
  {
   "cell_type": "code",
   "execution_count": null,
   "id": "f690a31f",
   "metadata": {},
   "outputs": [],
   "source": []
  },
  {
   "cell_type": "code",
   "execution_count": null,
   "id": "8d8d5fc9",
   "metadata": {},
   "outputs": [],
   "source": []
  }
 ],
 "metadata": {
  "kernelspec": {
   "display_name": "Python 3",
   "language": "python",
   "name": "python3"
  },
  "language_info": {
   "codemirror_mode": {
    "name": "ipython",
    "version": 3
   },
   "file_extension": ".py",
   "mimetype": "text/x-python",
   "name": "python",
   "nbconvert_exporter": "python",
   "pygments_lexer": "ipython3",
   "version": "3.8.8"
  }
 },
 "nbformat": 4,
 "nbformat_minor": 5
}
